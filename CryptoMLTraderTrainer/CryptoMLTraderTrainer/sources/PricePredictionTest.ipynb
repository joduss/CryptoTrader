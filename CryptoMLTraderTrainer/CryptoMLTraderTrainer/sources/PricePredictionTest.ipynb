{
 "cells": [
  {
   "cell_type": "code",
   "execution_count": 2,
   "metadata": {
    "collapsed": true
   },
   "outputs": [],
   "source": [
    "from numpy import genfromtxt\n",
    "import matplotlib.pyplot as plt\n",
    "import matplotlib.dates as md\n",
    "import datetime as dt\n",
    "import time\n",
    "import numpy as np\n",
    "import pandas as pd\n",
    "import pandas_ta as ta\n",
    "from pandas import DataFrame\n",
    "import tensorflow as tf\n",
    "import tensorflow.keras as keras\n",
    "import tensorflow.keras.layers as kl\n",
    "from typing import List, Tuple\n",
    "\n"
   ]
  },
  {
   "cell_type": "code",
   "execution_count": 3,
   "outputs": [],
   "source": [
    "def dateparse (time_in_secs):\n",
    "    return dt.datetime.fromtimestamp(float(time_in_secs))\n",
    "\n",
    "# Time, Open, High, Low, Closing, Volume, Trades\n",
    "\n",
    "data = pd.read_csv('./../input/btc_usd_1min.csv',\n",
    "                                 delimiter=',',\n",
    "                                 names=[\"time\", \"open\", \"high\", \"low\", \"close\", \"volume\", \"trades\"],\n",
    "                                 parse_dates=True,\n",
    "                                 date_parser=dateparse,\n",
    "                                 index_col='time', )"
   ],
   "metadata": {
    "collapsed": false,
    "pycharm": {
     "name": "#%% Loading raw data.\n"
    }
   }
  },
  {
   "cell_type": "code",
   "execution_count": null,
   "outputs": [],
   "source": [],
   "metadata": {
    "collapsed": false,
    "pycharm": {
     "name": "#%% Augment data with "
    }
   }
  }
 ],
 "metadata": {
  "kernelspec": {
   "display_name": "Python 3",
   "language": "python",
   "name": "python3"
  },
  "language_info": {
   "codemirror_mode": {
    "name": "ipython",
    "version": 2
   },
   "file_extension": ".py",
   "mimetype": "text/x-python",
   "name": "python",
   "nbconvert_exporter": "python",
   "pygments_lexer": "ipython2",
   "version": "2.7.6"
  }
 },
 "nbformat": 4,
 "nbformat_minor": 0
}